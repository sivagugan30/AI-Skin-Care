{
 "cells": [
  {
   "cell_type": "code",
   "id": "initial_id",
   "metadata": {
    "collapsed": true,
    "ExecuteTime": {
     "end_time": "2025-05-01T00:21:46.199574Z",
     "start_time": "2025-05-01T00:21:46.196708Z"
    }
   },
   "source": [
    "model_path = \"/Users/sivaguganjayachandran/PycharmProjects/AI-Skin-Care/model/acne_model.pth\"\n",
    "image_path = \"/Users/sivaguganjayachandran/PycharmProjects/AI-Skin-Care/data/1/levle1_7.jpg\""
   ],
   "outputs": [],
   "execution_count": 3
  },
  {
   "metadata": {
    "ExecuteTime": {
     "end_time": "2025-05-01T00:24:08.713934Z",
     "start_time": "2025-05-01T00:24:08.426479Z"
    }
   },
   "cell_type": "code",
   "source": [
    "import torch\n",
    "from torchvision import models, transforms\n",
    "from PIL import Image\n",
    "\n",
    "# Load the model architecture and match it to the original (3 classes)\n",
    "model = models.resnet18(weights=None)\n",
    "model.fc = torch.nn.Linear(model.fc.in_features, 3)  # original model was trained with 3 classes\n",
    "\n",
    "# Load the trained weights\n",
    "model_path = \"/Users/sivaguganjayachandran/PycharmProjects/AI-Skin-Care/model/acne_model.pth\"\n",
    "model.load_state_dict(torch.load(model_path, map_location=torch.device('cpu')))\n",
    "model.eval()\n",
    "\n",
    "# Define image preprocessing\n",
    "preprocess = transforms.Compose([\n",
    "    transforms.Resize((224, 224)),\n",
    "    transforms.ToTensor(),\n",
    "    transforms.Normalize(mean=[0.485, 0.456, 0.406], std=[0.229, 0.224, 0.225])\n",
    "])\n",
    "\n",
    "# Load and preprocess image\n",
    "image_path = \"/Users/sivaguganjayachandran/PycharmProjects/AI-Skin-Care/data/1/levle1_7.jpg\"\n",
    "image = Image.open(image_path).convert(\"RGB\")\n",
    "input_tensor = preprocess(image).unsqueeze(0)  # Add batch dimension\n",
    "\n",
    "# Run prediction\n",
    "with torch.no_grad():\n",
    "    outputs = model(input_tensor)\n",
    "    predicted_class = torch.argmax(outputs, dim=1).item()\n",
    "\n",
    "print(f\"Predicted class: {predicted_class}\")"
   ],
   "id": "3dd0c0731894ecb9",
   "outputs": [
    {
     "name": "stdout",
     "output_type": "stream",
     "text": [
      "Predicted class: 2\n"
     ]
    }
   ],
   "execution_count": 6
  },
  {
   "metadata": {
    "ExecuteTime": {
     "end_time": "2025-05-01T00:25:08.574666Z",
     "start_time": "2025-05-01T00:25:08.466166Z"
    }
   },
   "cell_type": "code",
   "source": [
    "import torch\n",
    "\n",
    "# Assuming `model` is your trained model\n",
    "pkl_path = \"/Users/sivaguganjayachandran/PycharmProjects/AI-Skin-Care/model/acne_model.pkl\"\n",
    "torch.save(model.state_dict(), pkl_path)"
   ],
   "id": "d407fa7a4758655e",
   "outputs": [],
   "execution_count": 7
  },
  {
   "metadata": {
    "ExecuteTime": {
     "end_time": "2025-05-01T00:26:56.336835Z",
     "start_time": "2025-05-01T00:26:56.238973Z"
    }
   },
   "cell_type": "code",
   "source": [
    "pkl_path = \"/Users/sivaguganjayachandran/PycharmProjects/AI-Skin-Care/model/acne_full_model.pkl\"\n",
    "torch.save(model, pkl_path)"
   ],
   "id": "763fb5e7784f33ec",
   "outputs": [],
   "execution_count": 9
  },
  {
   "metadata": {
    "ExecuteTime": {
     "end_time": "2025-05-01T00:28:42.529025Z",
     "start_time": "2025-05-01T00:28:42.463278Z"
    }
   },
   "cell_type": "code",
   "source": [
    "import torch\n",
    "from torchvision import transforms\n",
    "from PIL import Image\n",
    "\n",
    "# Load model\n",
    "pkl_path = \"/Users/sivaguganjayachandran/PycharmProjects/AI-Skin-Care/model/acne_full_model.pkl\"\n",
    "\n",
    "# 👇 This will allow full model unpickling (architecture + weights)\n",
    "model = torch.load(pkl_path, weights_only=False, map_location=torch.device('cpu'))\n",
    "model.eval()\n",
    "\n",
    "# Image preprocessing (adjust this based on your model's expected input)\n",
    "transform = transforms.Compose([\n",
    "    transforms.Resize((224, 224)),  # Update if your model expects another size\n",
    "    transforms.ToTensor(),\n",
    "    transforms.Normalize(mean=[0.485, 0.456, 0.406],  # Example: for pretrained ResNet\n",
    "                         std=[0.229, 0.224, 0.225])\n",
    "])\n",
    "\n",
    "# Load and transform image\n",
    "img_path = image_path  # 👈 Replace with your image path\n",
    "image = Image.open(img_path).convert('RGB')\n",
    "input_tensor = transform(image).unsqueeze(0)  # Add batch dimension\n",
    "\n",
    "# Predict\n",
    "with torch.no_grad():\n",
    "    output = model(input_tensor)\n",
    "    prediction = torch.argmax(output, dim=1).item()\n",
    "\n",
    "print(f\"Predicted class: {prediction}\")"
   ],
   "id": "563b4a1af0a2c21a",
   "outputs": [
    {
     "name": "stdout",
     "output_type": "stream",
     "text": [
      "Predicted class: 1\n"
     ]
    }
   ],
   "execution_count": 12
  },
  {
   "metadata": {},
   "cell_type": "code",
   "outputs": [],
   "execution_count": null,
   "source": "",
   "id": "d57009d09fc84137"
  }
 ],
 "metadata": {
  "kernelspec": {
   "display_name": "Python 3",
   "language": "python",
   "name": "python3"
  },
  "language_info": {
   "codemirror_mode": {
    "name": "ipython",
    "version": 2
   },
   "file_extension": ".py",
   "mimetype": "text/x-python",
   "name": "python",
   "nbconvert_exporter": "python",
   "pygments_lexer": "ipython2",
   "version": "2.7.6"
  }
 },
 "nbformat": 4,
 "nbformat_minor": 5
}
